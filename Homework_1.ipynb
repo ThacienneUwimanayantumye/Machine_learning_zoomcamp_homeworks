{
 "cells": [
  {
   "cell_type": "markdown",
   "id": "3b5b2b26",
   "metadata": {},
   "source": [
    "# 01. Introduction\n",
    "## Homework 1"
   ]
  },
  {
   "cell_type": "code",
   "execution_count": 51,
   "id": "24cdc7df",
   "metadata": {},
   "outputs": [
    {
     "data": {
      "text/plain": [
       "'2.2.2'"
      ]
     },
     "execution_count": 51,
     "metadata": {},
     "output_type": "execute_result"
    }
   ],
   "source": [
    "#Question 1\n",
    "#What is the version of Pandas that you installed?\n",
    "import pandas as pd\n",
    "pd.__version__"
   ]
  },
  {
   "cell_type": "code",
   "execution_count": 52,
   "id": "c0931cce",
   "metadata": {},
   "outputs": [
    {
     "name": "stdout",
     "output_type": "stream",
     "text": [
      "\n",
      "File saved as: car_fuel_efficiency (5).csv\n"
     ]
    }
   ],
   "source": [
    "# Quetsion 2\n",
    "import wget\n",
    "\n",
    "url = \"https://raw.githubusercontent.com/alexeygrigorev/datasets/master/car_fuel_efficiency.csv\"\n",
    "car_fuel_data = wget.download(url)\n",
    "\n",
    "print(f\"\\nFile saved as: {car_fuel_data}\")"
   ]
  },
  {
   "cell_type": "code",
   "execution_count": 53,
   "id": "b04fe62f",
   "metadata": {},
   "outputs": [
    {
     "name": "stdout",
     "output_type": "stream",
     "text": [
      "<class 'pandas.core.frame.DataFrame'>\n",
      "RangeIndex: 9704 entries, 0 to 9703\n",
      "Data columns (total 11 columns):\n",
      " #   Column               Non-Null Count  Dtype  \n",
      "---  ------               --------------  -----  \n",
      " 0   engine_displacement  9704 non-null   int64  \n",
      " 1   num_cylinders        9222 non-null   float64\n",
      " 2   horsepower           8996 non-null   float64\n",
      " 3   vehicle_weight       9704 non-null   float64\n",
      " 4   acceleration         8774 non-null   float64\n",
      " 5   model_year           9704 non-null   int64  \n",
      " 6   origin               9704 non-null   object \n",
      " 7   fuel_type            9704 non-null   object \n",
      " 8   drivetrain           9704 non-null   object \n",
      " 9   num_doors            9202 non-null   float64\n",
      " 10  fuel_efficiency_mpg  9704 non-null   float64\n",
      "dtypes: float64(6), int64(2), object(3)\n",
      "memory usage: 834.1+ KB\n"
     ]
    }
   ],
   "source": [
    "#Question 2 and \n",
    "#Loading the data\n",
    "data = pd.read_csv(\"car_fuel_efficiency.csv\")\n",
    "data.info()"
   ]
  },
  {
   "cell_type": "code",
   "execution_count": 54,
   "id": "aa1e14f5",
   "metadata": {},
   "outputs": [
    {
     "data": {
      "text/plain": [
       "array(['Europe', 'USA', 'Asia'], dtype=object)"
      ]
     },
     "execution_count": 54,
     "metadata": {},
     "output_type": "execute_result"
    }
   ],
   "source": [
    "# Question 3\n",
    "# How many fuel types \n",
    "data.fuel_type.unique()\n",
    "data.origin.unique()"
   ]
  },
  {
   "cell_type": "code",
   "execution_count": 55,
   "id": "32946a3a",
   "metadata": {},
   "outputs": [
    {
     "name": "stdout",
     "output_type": "stream",
     "text": [
      "Number of columns with missing values: 4\n",
      "Columns with missing values: ['num_cylinders', 'horsepower', 'acceleration', 'num_doors']\n"
     ]
    }
   ],
   "source": [
    "#Question 4 \n",
    "#How many columns have missing values\n",
    "num_missing_cols = data.isnull().any().sum()\n",
    "\n",
    "print(f\"Number of columns with missing values: {num_missing_cols}\")\n",
    "\n",
    "missing_cols = data.columns[data.isnull().any()]\n",
    "print(\"Columns with missing values:\", list(missing_cols))"
   ]
  },
  {
   "cell_type": "code",
   "execution_count": 56,
   "id": "6dba701f",
   "metadata": {},
   "outputs": [
    {
     "data": {
      "text/plain": [
       "23.759122836520497"
      ]
     },
     "execution_count": 56,
     "metadata": {},
     "output_type": "execute_result"
    }
   ],
   "source": [
    "# Question 5\n",
    "# what is the maximun fuel efficiency of Asian origin?\n",
    "asian = data[data[\"origin\"]==\"Asia\"]\n",
    "asian.fuel_efficiency_mpg.max()"
   ]
  },
  {
   "cell_type": "code",
   "execution_count": 57,
   "id": "7daa96fb",
   "metadata": {},
   "outputs": [
    {
     "name": "stdout",
     "output_type": "stream",
     "text": [
      "Median horsepower (before filling): 149.0\n",
      "Most frequent horsepower: 152.0\n",
      "Median horsepower (after filling): 152.0\n"
     ]
    },
    {
     "name": "stderr",
     "output_type": "stream",
     "text": [
      "C:\\Users\\Omistaja\\AppData\\Local\\Temp\\ipykernel_22840\\2634447505.py:11: FutureWarning: A value is trying to be set on a copy of a DataFrame or Series through chained assignment using an inplace method.\n",
      "The behavior will change in pandas 3.0. This inplace method will never work because the intermediate object on which we are setting values always behaves as a copy.\n",
      "\n",
      "For example, when doing 'df[col].method(value, inplace=True)', try using 'df.method({col: value}, inplace=True)' or df[col] = df[col].method(value) instead, to perform the operation inplace on the original object.\n",
      "\n",
      "\n",
      "  data[\"horsepower\"].fillna(most_frequent, inplace=True)\n"
     ]
    }
   ],
   "source": [
    "# Question 6\n",
    "# Step 1: Find the median value of horsepower\n",
    "median_before = data[\"horsepower\"].median()\n",
    "print(\"Median horsepower (before filling):\", median_before)\n",
    "\n",
    "# Step 2: Find the most frequent value (mode) of horsepower\n",
    "most_frequent = data[\"horsepower\"].mode()[0]\n",
    "print(\"Most frequent horsepower:\", most_frequent)\n",
    "\n",
    "# Step 3: Fill missing values with the most frequent value\n",
    "data[\"horsepower\"].fillna(most_frequent, inplace=True)\n",
    "\n",
    "# Step 4: Recalculate the median after filling\n",
    "median_after = data[\"horsepower\"].median()\n",
    "print(\"Median horsepower (after filling):\", median_after)"
   ]
  },
  {
   "cell_type": "code",
   "execution_count": 59,
   "id": "6398b9fc",
   "metadata": {},
   "outputs": [
    {
     "name": "stdout",
     "output_type": "stream",
     "text": [
      "Sum of all elements in w: 0.5187709081074007\n"
     ]
    }
   ],
   "source": [
    "# Question 7\n",
    "import numpy as np\n",
    "\n",
    "# Step 1: Select all the cars from Asia\n",
    "asia_cars = data[data[\"origin\"] == \"Asia\"]\n",
    "\n",
    "# Step 2: Select only columns vehicle_weight and model_year\n",
    "asia_subset = asia_cars[[\"vehicle_weight\", \"model_year\"]]\n",
    "\n",
    "# Step 3: Select the first 7 values\n",
    "asia_first7 = asia_subset.head(7)\n",
    "\n",
    "# Step 4: Get the underlying NumPy array\n",
    "X = asia_first7.values\n",
    "\n",
    "# Step 5: Compute XTX = X^T * X\n",
    "XTX = X.T @ X\n",
    "\n",
    "# Step 6: Invert XTX\n",
    "XTX_inv = np.linalg.inv(XTX)\n",
    "\n",
    "# Step 7: Create array y\n",
    "y = np.array([1100, 1300, 800, 900, 1000, 1100, 1200])\n",
    "\n",
    "# Step 8: Compute w = (XTX_inv * X^T) * y\n",
    "w = XTX_inv @ X.T @ y\n",
    "\n",
    "# Step 9: Sum of all elements in w\n",
    "result_sum = w.sum()\n",
    "print(\"Sum of all elements in w:\", result_sum)\n"
   ]
  }
 ],
 "metadata": {
  "kernelspec": {
   "display_name": "base",
   "language": "python",
   "name": "python3"
  },
  "language_info": {
   "codemirror_mode": {
    "name": "ipython",
    "version": 3
   },
   "file_extension": ".py",
   "mimetype": "text/x-python",
   "name": "python",
   "nbconvert_exporter": "python",
   "pygments_lexer": "ipython3",
   "version": "3.12.3"
  }
 },
 "nbformat": 4,
 "nbformat_minor": 5
}
