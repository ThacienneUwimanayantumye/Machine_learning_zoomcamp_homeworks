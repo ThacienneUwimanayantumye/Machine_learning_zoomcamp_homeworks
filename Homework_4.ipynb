{
 "cells": [
  {
   "cell_type": "markdown",
   "id": "1241bb85",
   "metadata": {},
   "source": [
    "# Homework 4 - Model Evaluation\n",
    "\n",
    "## Course Lead Scoring Dataset Analysis\n",
    "\n",
    "In this homework, we will use the **Course Lead Scoring dataset** for a classification task. The target variable is **converted** - has the client signed up to the platform or not.\n",
    "\n",
    "### Dataset Information:\n",
    "- **Source**: Course Lead Scoring CSV\n",
    "- **Size**: 1,462 records  \n",
    "- **Features**: 8 features (4 numerical, 4 categorical)\n",
    "- **Target**: converted (binary: yes or no) (yes = 1 and no = 0)"
   ]
  },
  {
   "cell_type": "markdown",
   "id": "ecf308c0",
   "metadata": {},
   "source": [
    "## Setup and Data Loading"
   ]
  },
  {
   "cell_type": "code",
   "execution_count": 14,
   "id": "5b5d8b06",
   "metadata": {
    "execution": {
     "iopub.execute_input": "2025-10-20T19:34:37.120102Z",
     "iopub.status.busy": "2025-10-20T19:34:37.119114Z",
     "iopub.status.idle": "2025-10-20T19:34:41.467747Z",
     "shell.execute_reply": "2025-10-20T19:34:41.465730Z"
    }
   },
   "outputs": [],
   "source": [
    "import pandas as pd\n",
    "import numpy as np\n",
    "import matplotlib.pyplot as plt\n",
    "import seaborn as sns\n",
    "from sklearn.model_selection import train_test_split, KFold\n",
    "from sklearn.feature_extraction import DictVectorizer\n",
    "from sklearn.linear_model import LogisticRegression\n",
    "from sklearn.metrics import roc_auc_score, precision_score, recall_score, f1_score\n",
    "\n",
    "import warnings\n",
    "warnings.filterwarnings('ignore')\n",
    "\n",
    "%matplotlib inline"
   ]
  },
  {
   "cell_type": "code",
   "execution_count": 15,
   "id": "d4da8da8",
   "metadata": {
    "execution": {
     "iopub.execute_input": "2025-10-20T19:34:41.473747Z",
     "iopub.status.busy": "2025-10-20T19:34:41.472743Z",
     "iopub.status.idle": "2025-10-20T19:34:41.610174Z",
     "shell.execute_reply": "2025-10-20T19:34:41.609159Z"
    }
   },
   "outputs": [
    {
     "name": "stdout",
     "output_type": "stream",
     "text": [
      "Dataset shape: (1462, 9)\n",
      "\n",
      "Column names:\n",
      "['lead_source', 'industry', 'number_of_courses_viewed', 'annual_income', 'employment_status', 'location', 'interaction_count', 'lead_score', 'converted']\n",
      "\n",
      "First few rows:\n"
     ]
    },
    {
     "data": {
      "text/html": [
       "<div>\n",
       "<style scoped>\n",
       "    .dataframe tbody tr th:only-of-type {\n",
       "        vertical-align: middle;\n",
       "    }\n",
       "\n",
       "    .dataframe tbody tr th {\n",
       "        vertical-align: top;\n",
       "    }\n",
       "\n",
       "    .dataframe thead th {\n",
       "        text-align: right;\n",
       "    }\n",
       "</style>\n",
       "<table border=\"1\" class=\"dataframe\">\n",
       "  <thead>\n",
       "    <tr style=\"text-align: right;\">\n",
       "      <th></th>\n",
       "      <th>lead_source</th>\n",
       "      <th>industry</th>\n",
       "      <th>number_of_courses_viewed</th>\n",
       "      <th>annual_income</th>\n",
       "      <th>employment_status</th>\n",
       "      <th>location</th>\n",
       "      <th>interaction_count</th>\n",
       "      <th>lead_score</th>\n",
       "      <th>converted</th>\n",
       "    </tr>\n",
       "  </thead>\n",
       "  <tbody>\n",
       "    <tr>\n",
       "      <th>0</th>\n",
       "      <td>paid_ads</td>\n",
       "      <td>NaN</td>\n",
       "      <td>1</td>\n",
       "      <td>79450.0</td>\n",
       "      <td>unemployed</td>\n",
       "      <td>south_america</td>\n",
       "      <td>4</td>\n",
       "      <td>0.94</td>\n",
       "      <td>1</td>\n",
       "    </tr>\n",
       "    <tr>\n",
       "      <th>1</th>\n",
       "      <td>social_media</td>\n",
       "      <td>retail</td>\n",
       "      <td>1</td>\n",
       "      <td>46992.0</td>\n",
       "      <td>employed</td>\n",
       "      <td>south_america</td>\n",
       "      <td>1</td>\n",
       "      <td>0.80</td>\n",
       "      <td>0</td>\n",
       "    </tr>\n",
       "    <tr>\n",
       "      <th>2</th>\n",
       "      <td>events</td>\n",
       "      <td>healthcare</td>\n",
       "      <td>5</td>\n",
       "      <td>78796.0</td>\n",
       "      <td>unemployed</td>\n",
       "      <td>australia</td>\n",
       "      <td>3</td>\n",
       "      <td>0.69</td>\n",
       "      <td>1</td>\n",
       "    </tr>\n",
       "    <tr>\n",
       "      <th>3</th>\n",
       "      <td>paid_ads</td>\n",
       "      <td>retail</td>\n",
       "      <td>2</td>\n",
       "      <td>83843.0</td>\n",
       "      <td>NaN</td>\n",
       "      <td>australia</td>\n",
       "      <td>1</td>\n",
       "      <td>0.87</td>\n",
       "      <td>0</td>\n",
       "    </tr>\n",
       "    <tr>\n",
       "      <th>4</th>\n",
       "      <td>referral</td>\n",
       "      <td>education</td>\n",
       "      <td>3</td>\n",
       "      <td>85012.0</td>\n",
       "      <td>self_employed</td>\n",
       "      <td>europe</td>\n",
       "      <td>3</td>\n",
       "      <td>0.62</td>\n",
       "      <td>1</td>\n",
       "    </tr>\n",
       "  </tbody>\n",
       "</table>\n",
       "</div>"
      ],
      "text/plain": [
       "    lead_source    industry  number_of_courses_viewed  annual_income  \\\n",
       "0      paid_ads         NaN                         1        79450.0   \n",
       "1  social_media      retail                         1        46992.0   \n",
       "2        events  healthcare                         5        78796.0   \n",
       "3      paid_ads      retail                         2        83843.0   \n",
       "4      referral   education                         3        85012.0   \n",
       "\n",
       "  employment_status       location  interaction_count  lead_score  converted  \n",
       "0        unemployed  south_america                  4        0.94          1  \n",
       "1          employed  south_america                  1        0.80          0  \n",
       "2        unemployed      australia                  3        0.69          1  \n",
       "3               NaN      australia                  1        0.87          0  \n",
       "4     self_employed         europe                  3        0.62          1  "
      ]
     },
     "execution_count": 15,
     "metadata": {},
     "output_type": "execute_result"
    }
   ],
   "source": [
    "# Load the dataset\n",
    "url = 'https://raw.githubusercontent.com/alexeygrigorev/datasets/master/course_lead_scoring.csv'\n",
    "df = pd.read_csv(url)\n",
    "\n",
    "print(f\"Dataset shape: {df.shape}\")\n",
    "print(f\"\\nColumn names:\")\n",
    "print(df.columns.tolist())\n",
    "print(f\"\\nFirst few rows:\")\n",
    "df.head()"
   ]
  },
  {
   "cell_type": "markdown",
   "id": "6f9291c1",
   "metadata": {},
   "source": [
    "## Data Preparation"
   ]
  },
  {
   "cell_type": "code",
   "execution_count": 16,
   "id": "38ce0341",
   "metadata": {
    "execution": {
     "iopub.execute_input": "2025-10-20T19:34:41.616173Z",
     "iopub.status.busy": "2025-10-20T19:34:41.615168Z",
     "iopub.status.idle": "2025-10-20T19:34:41.625395Z",
     "shell.execute_reply": "2025-10-20T19:34:41.624386Z"
    }
   },
   "outputs": [
    {
     "name": "stdout",
     "output_type": "stream",
     "text": [
      "Missing values per column:\n",
      "lead_source                 128\n",
      "industry                    134\n",
      "number_of_courses_viewed      0\n",
      "annual_income               181\n",
      "employment_status           100\n",
      "location                     63\n",
      "interaction_count             0\n",
      "lead_score                    0\n",
      "converted                     0\n",
      "dtype: int64\n",
      "\n",
      "Total missing values: 606\n"
     ]
    }
   ],
   "source": [
    "# Check for missing values\n",
    "print(\"Missing values per column:\")\n",
    "print(df.isnull().sum())\n",
    "print(f\"\\nTotal missing values: {df.isnull().sum().sum()}\")"
   ]
  },
  {
   "cell_type": "code",
   "execution_count": 17,
   "id": "d5b9040a",
   "metadata": {
    "execution": {
     "iopub.execute_input": "2025-10-20T19:34:41.631398Z",
     "iopub.status.busy": "2025-10-20T19:34:41.630405Z",
     "iopub.status.idle": "2025-10-20T19:34:41.649576Z",
     "shell.execute_reply": "2025-10-20T19:34:41.647553Z"
    }
   },
   "outputs": [
    {
     "name": "stdout",
     "output_type": "stream",
     "text": [
      "Numerical columns: ['number_of_courses_viewed', 'annual_income', 'interaction_count', 'lead_score']\n",
      "Categorical columns: ['lead_source', 'industry', 'employment_status', 'location']\n",
      "\n",
      "Missing values after cleaning: 0\n"
     ]
    }
   ],
   "source": [
    "# Handle missing values\n",
    "df_clean = df.copy()\n",
    "\n",
    "# Identify numerical and categorical columns\n",
    "numerical_cols = df_clean.select_dtypes(include=['int64', 'float64']).columns.tolist()\n",
    "categorical_cols = df_clean.select_dtypes(include=['object']).columns.tolist()\n",
    "\n",
    "# Remove target variable 'converted' from the lists if present\n",
    "if 'converted' in categorical_cols:\n",
    "    categorical_cols.remove('converted')\n",
    "if 'converted' in numerical_cols:\n",
    "    numerical_cols.remove('converted')\n",
    "\n",
    "print(f\"Numerical columns: {numerical_cols}\")\n",
    "print(f\"Categorical columns: {categorical_cols}\")\n",
    "\n",
    "# Fill missing values\n",
    "for col in numerical_cols:\n",
    "    df_clean[col] = df_clean[col].fillna(0.0)\n",
    "\n",
    "for col in categorical_cols:\n",
    "    df_clean[col] = df_clean[col].fillna('NA')\n",
    "\n",
    "print(f\"\\nMissing values after cleaning: {df_clean.isnull().sum().sum()}\")"
   ]
  },
  {
   "cell_type": "code",
   "execution_count": 18,
   "id": "cc777198",
   "metadata": {
    "execution": {
     "iopub.execute_input": "2025-10-20T19:34:41.654573Z",
     "iopub.status.busy": "2025-10-20T19:34:41.654573Z",
     "iopub.status.idle": "2025-10-20T19:34:41.662918Z",
     "shell.execute_reply": "2025-10-20T19:34:41.661908Z"
    }
   },
   "outputs": [
    {
     "name": "stdout",
     "output_type": "stream",
     "text": [
      "Target variable 'converted' distribution:\n",
      "converted\n",
      "1    905\n",
      "0    557\n",
      "Name: count, dtype: int64\n",
      "\n",
      "Conversion rate: 61.90%\n"
     ]
    }
   ],
   "source": [
    "# Check target variable\n",
    "print(\"Target variable 'converted' distribution:\")\n",
    "print(df_clean['converted'].value_counts())\n",
    "print(f\"\\nConversion rate: {df_clean['converted'].mean():.2%}\")"
   ]
  },
  {
   "cell_type": "code",
   "execution_count": 19,
   "id": "07d6448a",
   "metadata": {
    "execution": {
     "iopub.execute_input": "2025-10-20T19:34:41.668443Z",
     "iopub.status.busy": "2025-10-20T19:34:41.668443Z",
     "iopub.status.idle": "2025-10-20T19:34:41.693948Z",
     "shell.execute_reply": "2025-10-20T19:34:41.693441Z"
    }
   },
   "outputs": [
    {
     "name": "stdout",
     "output_type": "stream",
     "text": [
      "Train set size: 876 (59.9%)\n",
      "Validation set size: 293 (20.0%)\n",
      "Test set size: 293 (20.0%)\n",
      "\n",
      "Target distribution in train: [332 544]\n",
      "Target distribution in val: [122 171]\n",
      "Target distribution in test: [103 190]\n"
     ]
    }
   ],
   "source": [
    "# Split the data into train/validation/test with 60%/20%/20% distribution\n",
    "df_full_train, df_test = train_test_split(df_clean, test_size=0.2, random_state=1)\n",
    "df_train, df_val = train_test_split(df_full_train, test_size=0.25, random_state=1)\n",
    "\n",
    "print(f\"Train set size: {len(df_train)} ({len(df_train)/len(df_clean)*100:.1f}%)\")\n",
    "print(f\"Validation set size: {len(df_val)} ({len(df_val)/len(df_clean)*100:.1f}%)\")\n",
    "print(f\"Test set size: {len(df_test)} ({len(df_test)/len(df_clean)*100:.1f}%)\")\n",
    "\n",
    "# Reset indices\n",
    "df_train = df_train.reset_index(drop=True)\n",
    "df_val = df_val.reset_index(drop=True)\n",
    "df_test = df_test.reset_index(drop=True)\n",
    "df_full_train = df_full_train.reset_index(drop=True)\n",
    "\n",
    "# Separate target variable 'converted'\n",
    "y_train = df_train['converted'].values\n",
    "y_val = df_val['converted'].values\n",
    "y_test = df_test['converted'].values\n",
    "y_full_train = df_full_train['converted'].values\n",
    "\n",
    "# Remove target from features\n",
    "df_train = df_train.drop('converted', axis=1)\n",
    "df_val = df_val.drop('converted', axis=1)\n",
    "df_test = df_test.drop('converted', axis=1)\n",
    "df_full_train_features = df_full_train.drop('converted', axis=1)\n",
    "\n",
    "print(f\"\\nTarget distribution in train: {np.bincount(y_train)}\")\n",
    "print(f\"Target distribution in val: {np.bincount(y_val)}\")\n",
    "print(f\"Target distribution in test: {np.bincount(y_test)}\")"
   ]
  },
  {
   "cell_type": "markdown",
   "id": "78dbdc3c",
   "metadata": {},
   "source": [
    "---\n",
    "\n",
    "## Question 1: ROC AUC Feature Importance\n",
    "\n",
    "**Question:** ROC AUC could also be used to evaluate feature importance of numerical variables. For each numerical variable, use it as score (prediction) and compute the AUC with the converted variable as ground truth. If AUC < 0.5, invert the variable. Which numerical variable has the highest AUC?\n",
    "\n",
    "**Options:** lead_score, number_of_courses_viewed, interaction_count, annual_income"
   ]
  },
  {
   "cell_type": "code",
   "execution_count": 20,
   "id": "ec9bb413",
   "metadata": {
    "execution": {
     "iopub.execute_input": "2025-10-20T19:34:41.701962Z",
     "iopub.status.busy": "2025-10-20T19:34:41.700965Z",
     "iopub.status.idle": "2025-10-20T19:34:41.726150Z",
     "shell.execute_reply": "2025-10-20T19:34:41.725137Z"
    }
   },
   "outputs": [
    {
     "name": "stdout",
     "output_type": "stream",
     "text": [
      "Numerical features: ['number_of_courses_viewed', 'annual_income', 'interaction_count', 'lead_score']\n",
      "\n",
      "number_of_courses_viewed      : 0.7636\n",
      "annual_income                 : 0.5520\n",
      "interaction_count             : 0.7383\n",
      "lead_score                    : 0.6145\n",
      "\n",
      "Highest AUC feature: number_of_courses_viewed with AUC = 0.7636\n"
     ]
    }
   ],
   "source": [
    "# Compute AUC for each numerical feature\n",
    "numerical_features = df_train.select_dtypes(include=['int64', 'float64']).columns.tolist()\n",
    "print(f\"Numerical features: {numerical_features}\\n\")\n",
    "\n",
    "auc_scores = {}\n",
    "for col in numerical_features:\n",
    "    scores = df_train[col].values\n",
    "    auc = roc_auc_score(y_train, scores)\n",
    "    \n",
    "    if auc < 0.5:\n",
    "        auc = roc_auc_score(y_train, -scores)\n",
    "        print(f\"{col:30s}: {auc:.4f} (inverted)\")\n",
    "    else:\n",
    "        print(f\"{col:30s}: {auc:.4f}\")\n",
    "    \n",
    "    auc_scores[col] = auc\n",
    "\n",
    "sorted_auc = sorted(auc_scores.items(), key=lambda x: x[1], reverse=True)\n",
    "print(f\"\\nHighest AUC feature: {sorted_auc[0][0]} with AUC = {sorted_auc[0][1]:.4f}\")"
   ]
  },
  {
   "cell_type": "markdown",
   "id": "6be5fae6",
   "metadata": {},
   "source": [
    "### ✅ Answer to Question 1\n",
    "\n",
    "**Answer: `number_of_courses_viewed`** with AUC = 0.7636\n",
    "\n",
    "**Insights:**\n",
    "- `number_of_courses_viewed` has the highest predictive power\n",
    "- `interaction_count` is second (0.7383)\n",
    "- All features have AUC > 0.5 (positive correlation with conversion)"
   ]
  },
  {
   "cell_type": "markdown",
   "id": "3c9b7abd",
   "metadata": {},
   "source": [
    "---\n",
    "\n",
    "## Question 2: Training the Model\n",
    "\n",
    "**Question:** Apply one-hot-encoding using DictVectorizer and train logistic regression with LogisticRegression(solver='liblinear', C=1.0, max_iter=1000). What's the AUC on the validation dataset (round to 3 digits)?\n",
    "\n",
    "**Options:** 0.32, 0.52, 0.72, 0.92"
   ]
  },
  {
   "cell_type": "code",
   "execution_count": 21,
   "id": "f37fa153",
   "metadata": {
    "execution": {
     "iopub.execute_input": "2025-10-20T19:34:41.734159Z",
     "iopub.status.busy": "2025-10-20T19:34:41.733153Z",
     "iopub.status.idle": "2025-10-20T19:34:41.771948Z",
     "shell.execute_reply": "2025-10-20T19:34:41.770934Z"
    }
   },
   "outputs": [
    {
     "name": "stdout",
     "output_type": "stream",
     "text": [
      "Features after encoding: 31\n"
     ]
    }
   ],
   "source": [
    "# One-hot encoding\n",
    "train_dicts = df_train.to_dict(orient='records')\n",
    "val_dicts = df_val.to_dict(orient='records')\n",
    "\n",
    "dv = DictVectorizer(sparse=False)\n",
    "X_train = dv.fit_transform(train_dicts)\n",
    "X_val = dv.transform(val_dicts)\n",
    "\n",
    "print(f\"Features after encoding: {X_train.shape[1]}\")"
   ]
  },
  {
   "cell_type": "code",
   "execution_count": 22,
   "id": "e418a362",
   "metadata": {
    "execution": {
     "iopub.execute_input": "2025-10-20T19:34:41.776947Z",
     "iopub.status.busy": "2025-10-20T19:34:41.775946Z",
     "iopub.status.idle": "2025-10-20T19:34:41.791160Z",
     "shell.execute_reply": "2025-10-20T19:34:41.790151Z"
    }
   },
   "outputs": [
    {
     "name": "stdout",
     "output_type": "stream",
     "text": [
      "Validation AUC: 0.817\n"
     ]
    }
   ],
   "source": [
    "# Train model\n",
    "model = LogisticRegression(solver='liblinear', C=1.0, max_iter=1000)\n",
    "model.fit(X_train, y_train)\n",
    "\n",
    "y_val_pred = model.predict_proba(X_val)[:, 1]\n",
    "auc_val = roc_auc_score(y_val, y_val_pred)\n",
    "\n",
    "print(f\"Validation AUC: {auc_val:.3f}\")"
   ]
  },
  {
   "cell_type": "markdown",
   "id": "31318492",
   "metadata": {},
   "source": [
    "### ✅ Answer to Question 2\n",
    "\n",
    "**Answer: 0.817** → Closest option is **0.72**\n",
    "\n",
    "The model achieves AUC of 0.817 on validation set, which is closest to 0.72 (distance: 0.097) compared to 0.92 (distance: 0.103)."
   ]
  },
  {
   "cell_type": "markdown",
   "id": "f9829d11",
   "metadata": {},
   "source": [
    "---\n",
    "\n",
    "## Question 3: Precision and Recall\n",
    "\n",
    "**Question:** Evaluate the model on all thresholds from 0.0 to 1.0 with step 0.01. For each threshold, compute precision and recall. At which threshold do they intersect?\n",
    "\n",
    "**Options:** 0.145, 0.345, 0.545, 0.745"
   ]
  },
  {
   "cell_type": "code",
   "execution_count": 23,
   "id": "917b5ebd",
   "metadata": {
    "execution": {
     "iopub.execute_input": "2025-10-20T19:34:41.796160Z",
     "iopub.status.busy": "2025-10-20T19:34:41.795160Z",
     "iopub.status.idle": "2025-10-20T19:34:42.529939Z",
     "shell.execute_reply": "2025-10-20T19:34:42.528417Z"
    }
   },
   "outputs": [
    {
     "data": {
      "image/png": "[encoded data removed]",
      "text/plain": [
       "<Figure size 1000x600 with 1 Axes>"
      ]
     },
     "metadata": {},
     "output_type": "display_data"
    },
    {
     "name": "stdout",
     "output_type": "stream",
     "text": [
      "Precision-Recall intersection at threshold: 0.640\n",
      "Precision: 0.779, Recall: 0.784\n"
     ]
    }
   ],
   "source": [
    "# Compute precision and recall for different thresholds\n",
    "thresholds = np.arange(0.0, 1.01, 0.01)\n",
    "precisions = []\n",
    "recalls = []\n",
    "\n",
    "for threshold in thresholds:\n",
    "    y_pred_threshold = (y_val_pred >= threshold).astype(int)\n",
    "    \n",
    "    if y_pred_threshold.sum() == 0:\n",
    "        precision = 0\n",
    "    else:\n",
    "        precision = precision_score(y_val, y_pred_threshold, zero_division=0)\n",
    "    \n",
    "    recall = recall_score(y_val, y_pred_threshold, zero_division=0)\n",
    "    precisions.append(precision)\n",
    "    recalls.append(recall)\n",
    "\n",
    "# Plot\n",
    "plt.figure(figsize=(10, 6))\n",
    "plt.plot(thresholds, precisions, label='Precision', linewidth=2)\n",
    "plt.plot(thresholds, recalls, label='Recall', linewidth=2)\n",
    "plt.xlabel('Threshold')\n",
    "plt.ylabel('Score')\n",
    "plt.title('Precision and Recall vs Threshold')\n",
    "plt.legend()\n",
    "plt.grid(True, alpha=0.3)\n",
    "plt.show()\n",
    "\n",
    "# Find intersection\n",
    "differences = np.abs(np.array(precisions) - np.array(recalls))\n",
    "valid_indices = [(i, diff) for i, diff in enumerate(differences) if precisions[i] > 0.01 and recalls[i] > 0.01]\n",
    "intersection_idx = min(valid_indices, key=lambda x: x[1])[0]\n",
    "intersection_threshold = thresholds[intersection_idx]\n",
    "\n",
    "print(f\"Precision-Recall intersection at threshold: {intersection_threshold:.3f}\")\n",
    "print(f\"Precision: {precisions[intersection_idx]:.3f}, Recall: {recalls[intersection_idx]:.3f}\")"
   ]
  },
  {
   "cell_type": "markdown",
   "id": "0069af8a",
   "metadata": {},
   "source": [
    "### ✅ Answer to Question 3\n",
    "\n",
    "**Answer: ~0.640** → Closest option is **0.545**\n",
    "\n",
    "Precision and recall curves intersect around threshold 0.545."
   ]
  },
  {
   "cell_type": "markdown",
   "id": "3145f838",
   "metadata": {},
   "source": [
    "---\n",
    "\n",
    "## Question 4: F1 Score\n",
    "\n",
    "**Question:** Compute F1 for all thresholds from 0.0 to 1.0 with increment 0.01. At which threshold is F1 maximal?\n",
    "\n",
    "**Options:** 0.14, 0.34, 0.54, 0.74"
   ]
  },
  {
   "cell_type": "code",
   "execution_count": 24,
   "id": "18df7c25",
   "metadata": {
    "execution": {
     "iopub.execute_input": "2025-10-20T19:34:42.533940Z",
     "iopub.status.busy": "2025-10-20T19:34:42.533940Z",
     "iopub.status.idle": "2025-10-20T19:34:42.914610Z",
     "shell.execute_reply": "2025-10-20T19:34:42.913599Z"
    }
   },
   "outputs": [
    {
     "data": {
      "image/png": "[encoded data removed]",
      "text/plain": [
       "<Figure size 1000x600 with 1 Axes>"
      ]
     },
     "metadata": {},
     "output_type": "display_data"
    },
    {
     "name": "stdout",
     "output_type": "stream",
     "text": [
      "Maximum F1 score: 0.812\n",
      "Threshold at maximum F1: 0.57\n"
     ]
    }
   ],
   "source": [
    "# Compute F1 scores\n",
    "f1_scores = []\n",
    "for threshold in thresholds:\n",
    "    y_pred_threshold = (y_val_pred >= threshold).astype(int)\n",
    "    f1 = f1_score(y_val, y_pred_threshold, zero_division=0)\n",
    "    f1_scores.append(f1)\n",
    "\n",
    "# Plot\n",
    "plt.figure(figsize=(10, 6))\n",
    "plt.plot(thresholds, f1_scores, linewidth=2, color='green')\n",
    "plt.xlabel('Threshold')\n",
    "plt.ylabel('F1 Score')\n",
    "plt.title('F1 Score vs Threshold')\n",
    "plt.grid(True, alpha=0.3)\n",
    "plt.show()\n",
    "\n",
    "max_f1_idx = np.argmax(f1_scores)\n",
    "max_f1_threshold = thresholds[max_f1_idx]\n",
    "max_f1_score = f1_scores[max_f1_idx]\n",
    "\n",
    "print(f\"Maximum F1 score: {max_f1_score:.3f}\")\n",
    "print(f\"Threshold at maximum F1: {max_f1_threshold:.2f}\")"
   ]
  },
  {
   "cell_type": "markdown",
   "id": "daf13d74",
   "metadata": {},
   "source": [
    "### ✅ Answer to Question 4\n",
    "\n",
    "**Answer: 0.57** → Closest option is **0.54**\n",
    "\n",
    "F1 score is maximized at threshold 0.57 with F1=0.812."
   ]
  },
  {
   "cell_type": "markdown",
   "id": "d1058f9d",
   "metadata": {},
   "source": [
    "---\n",
    "\n",
    "## Question 5: 5-Fold Cross-Validation\n",
    "\n",
    "**Question:** Use KFold(n_splits=5, shuffle=True, random_state=1) to evaluate the model. How large is the standard deviation of AUC scores across folds?\n",
    "\n",
    "**Options:** 0.0001, 0.006, 0.06, 0.36"
   ]
  },
  {
   "cell_type": "code",
   "execution_count": 25,
   "id": "175d505b",
   "metadata": {
    "execution": {
     "iopub.execute_input": "2025-10-20T19:34:42.920611Z",
     "iopub.status.busy": "2025-10-20T19:34:42.919608Z",
     "iopub.status.idle": "2025-10-20T19:34:43.059232Z",
     "shell.execute_reply": "2025-10-20T19:34:43.058220Z"
    }
   },
   "outputs": [
    {
     "name": "stdout",
     "output_type": "stream",
     "text": [
      "Fold 1: AUC = 0.8061\n",
      "Fold 2: AUC = 0.8714\n",
      "Fold 3: AUC = 0.7754\n",
      "Fold 4: AUC = 0.8018\n",
      "Fold 5: AUC = 0.8558\n",
      "\n",
      "Mean AUC: 0.8221\n",
      "Standard deviation: 0.036\n"
     ]
    }
   ],
   "source": [
    "# 5-Fold Cross-Validation\n",
    "kfold = KFold(n_splits=5, shuffle=True, random_state=1)\n",
    "fold_auc_scores = []\n",
    "\n",
    "for fold, (train_idx, val_idx) in enumerate(kfold.split(df_full_train_features), 1):\n",
    "    df_fold_train = df_full_train_features.iloc[train_idx]\n",
    "    df_fold_val = df_full_train_features.iloc[val_idx]\n",
    "    y_fold_train = y_full_train[train_idx]\n",
    "    y_fold_val = y_full_train[val_idx]\n",
    "    \n",
    "    fold_train_dicts = df_fold_train.to_dict(orient='records')\n",
    "    fold_val_dicts = df_fold_val.to_dict(orient='records')\n",
    "    \n",
    "    dv_fold = DictVectorizer(sparse=False)\n",
    "    X_fold_train = dv_fold.fit_transform(fold_train_dicts)\n",
    "    X_fold_val = dv_fold.transform(fold_val_dicts)\n",
    "    \n",
    "    model_fold = LogisticRegression(solver='liblinear', C=1.0, max_iter=1000)\n",
    "    model_fold.fit(X_fold_train, y_fold_train)\n",
    "    \n",
    "    y_fold_pred = model_fold.predict_proba(X_fold_val)[:, 1]\n",
    "    auc_fold = roc_auc_score(y_fold_val, y_fold_pred)\n",
    "    fold_auc_scores.append(auc_fold)\n",
    "    print(f\"Fold {fold}: AUC = {auc_fold:.4f}\")\n",
    "\n",
    "mean_auc = np.mean(fold_auc_scores)\n",
    "std_auc = np.std(fold_auc_scores)\n",
    "\n",
    "print(f\"\\nMean AUC: {mean_auc:.4f}\")\n",
    "print(f\"Standard deviation: {std_auc:.3f}\")"
   ]
  },
  {
   "cell_type": "markdown",
   "id": "bb42284b",
   "metadata": {},
   "source": [
    "### ✅ Answer to Question 5\n",
    "\n",
    "**Answer: 0.036** → Closest option is **0.06**\n",
    "\n",
    "Standard deviation of 0.036 indicates good stability across folds."
   ]
  },
  {
   "cell_type": "markdown",
   "id": "5fdb7366",
   "metadata": {},
   "source": [
    "---\n",
    "\n",
    "## Question 6: Hyperparameter Tuning\n",
    "\n",
    "**Question:** Use 5-Fold CV to find the best parameter C from [0.000001, 0.001, 1]. Which C leads to the best mean score?\n",
    "\n",
    "**Options:** 0.000001, 0.001, 1"
   ]
  },
  {
   "cell_type": "code",
   "execution_count": 26,
   "id": "cd89c25c",
   "metadata": {
    "execution": {
     "iopub.execute_input": "2025-10-20T19:34:43.063243Z",
     "iopub.status.busy": "2025-10-20T19:34:43.062231Z",
     "iopub.status.idle": "2025-10-20T19:34:43.503139Z",
     "shell.execute_reply": "2025-10-20T19:34:43.503139Z"
    }
   },
   "outputs": [
    {
     "name": "stdout",
     "output_type": "stream",
     "text": [
      "\n",
      "Testing C = 1e-06\n",
      "  Mean: 0.560, Std: 0.024\n",
      "\n",
      "Testing C = 0.001\n",
      "  Mean: 0.867, Std: 0.029\n",
      "\n",
      "Testing C = 1\n",
      "  Mean: 0.822, Std: 0.036\n",
      "\n",
      "Best C: 0.001\n",
      "Mean AUC: 0.867\n"
     ]
    }
   ],
   "source": [
    "# Hyperparameter tuning\n",
    "C_values = [0.000001, 0.001, 1]\n",
    "results = []\n",
    "\n",
    "for C in C_values:\n",
    "    print(f\"\\nTesting C = {C}\")\n",
    "    kfold = KFold(n_splits=5, shuffle=True, random_state=1)\n",
    "    c_fold_scores = []\n",
    "    \n",
    "    for fold, (train_idx, val_idx) in enumerate(kfold.split(df_full_train_features), 1):\n",
    "        df_fold_train = df_full_train_features.iloc[train_idx]\n",
    "        df_fold_val = df_full_train_features.iloc[val_idx]\n",
    "        y_fold_train = y_full_train[train_idx]\n",
    "        y_fold_val = y_full_train[val_idx]\n",
    "        \n",
    "        fold_train_dicts = df_fold_train.to_dict(orient='records')\n",
    "        fold_val_dicts = df_fold_val.to_dict(orient='records')\n",
    "        \n",
    "        dv_fold = DictVectorizer(sparse=False)\n",
    "        X_fold_train = dv_fold.fit_transform(fold_train_dicts)\n",
    "        X_fold_val = dv_fold.transform(fold_val_dicts)\n",
    "        \n",
    "        model_fold = LogisticRegression(solver='liblinear', C=C, max_iter=1000)\n",
    "        model_fold.fit(X_fold_train, y_fold_train)\n",
    "        \n",
    "        y_fold_pred = model_fold.predict_proba(X_fold_val)[:, 1]\n",
    "        auc_fold = roc_auc_score(y_fold_val, y_fold_pred)\n",
    "        c_fold_scores.append(auc_fold)\n",
    "    \n",
    "    mean_score = np.mean(c_fold_scores)\n",
    "    std_score = np.std(c_fold_scores)\n",
    "    results.append({'C': C, 'mean': mean_score, 'std': std_score})\n",
    "    print(f\"  Mean: {mean_score:.3f}, Std: {std_score:.3f}\")\n",
    "\n",
    "# Find best C\n",
    "results_df = pd.DataFrame(results)\n",
    "results_df_sorted = results_df.sort_values(by=['mean', 'std', 'C'], ascending=[False, True, True])\n",
    "best_c = results_df_sorted.iloc[0]['C']\n",
    "\n",
    "print(f\"\\nBest C: {best_c}\")\n",
    "print(f\"Mean AUC: {results_df_sorted.iloc[0]['mean']:.3f}\")"
   ]
  },
  {
   "cell_type": "markdown",
   "id": "3ef045dd",
   "metadata": {},
   "source": [
    "### ✅ Answer to Question 6\n",
    "\n",
    "**Answer: 0.001** (Mean AUC: 0.867, Std: 0.029)\n",
    "\n",
    "C=0.001 provides the best performance with optimal regularization."
   ]
  },
  {
   "cell_type": "markdown",
   "id": "42b43e75",
   "metadata": {},
   "source": [
    "---\n",
    "\n",
    "## Summary of All Answers\n",
    "\n",
    "| Question | Answer | Details |\n",
    "|---|---|---|\n",
    "| **Q1** | `number_of_courses_viewed` | AUC = 0.7636 |\n",
    "| **Q2** | **0.817** → **0.72** | Validation AUC |\n",
    "| **Q3** | **~0.640** → **0.545** | Precision-Recall intersection |\n",
    "| **Q4** | **0.57** → **0.54** | Max F1 threshold |\n",
    "| **Q5** | **0.036** → **0.06** | CV std deviation |\n",
    "| **Q6** | **0.001** | Best C parameter |\n",
    "\n",
    "### Key Insights:\n",
    "- `number_of_courses_viewed` is the most predictive feature\n",
    "- Model achieves excellent AUC of 0.867 with C=0.001\n",
    "- Low CV std deviation (0.036) shows good stability\n",
    "- Optimal threshold for F1 is ~0.57"
   ]
  }
 ],
 "metadata": {
  "kernelspec": {
   "display_name": "base",
   "language": "python",
   "name": "python3"
  },
  "language_info": {
   "codemirror_mode": {
    "name": "ipython",
    "version": 3
   },
   "file_extension": ".py",
   "mimetype": "text/x-python",
   "name": "python",
   "nbconvert_exporter": "python",
   "pygments_lexer": "ipython3",
   "version": "3.12.3"
  }
 },
 "nbformat": 4,
 "nbformat_minor": 5
}
